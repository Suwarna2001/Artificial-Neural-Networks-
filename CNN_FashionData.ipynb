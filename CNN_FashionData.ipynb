{
 "cells": [
  {
   "cell_type": "code",
   "execution_count": 2,
   "id": "2c5f2cc0",
   "metadata": {},
   "outputs": [],
   "source": [
    "import numpy as np\n",
    "import pandas as pd\n",
    "%matplotlib inline\n",
    "import matplotlib as mpl\n",
    "import matplotlib.pyplot as plt\n",
    "import tensorflow as tf\n",
    "from tensorflow import keras\n"
   ]
  },
  {
   "cell_type": "code",
   "execution_count": 3,
   "id": "e43c6d4e",
   "metadata": {},
   "outputs": [],
   "source": [
    "fashion_mnist=keras.datasets.fashion_mnist"
   ]
  },
  {
   "cell_type": "code",
   "execution_count": 4,
   "id": "479f9adf",
   "metadata": {},
   "outputs": [],
   "source": [
    "(X_train_full,y_train_full),(X_test,y_test)=fashion_mnist.load_data()"
   ]
  },
  {
   "cell_type": "code",
   "execution_count": 5,
   "id": "69a2a959",
   "metadata": {},
   "outputs": [],
   "source": [
    "class_names=[\"T_shirt/top\",\"Trouser\",\"Pullover\",\"Dress\",\"Coat\",\"Sandal\",\"Shirt\",\n",
    "             \"Sneaker\",\"Bag\",\"Ankle boot\"]"
   ]
  },
  {
   "cell_type": "code",
   "execution_count": 6,
   "id": "abd1a94c",
   "metadata": {},
   "outputs": [],
   "source": [
    "(X_train_full,y_train_full),(X_tset,y_test)=fashion_mnist.load_data()"
   ]
  },
  {
   "cell_type": "code",
   "execution_count": 7,
   "id": "f2267b0b",
   "metadata": {},
   "outputs": [],
   "source": [
    "X_train_full=X_train_full.reshape((60000,28,28,1))# datalength pixel pixel channel\n",
    "X_test=X_test.reshape((10000,28,28,1))"
   ]
  },
  {
   "cell_type": "code",
   "execution_count": 8,
   "id": "b37989b4",
   "metadata": {},
   "outputs": [],
   "source": [
    "X_train_n=X_train_full/255.\n",
    "X_test_n=X_tset/255."
   ]
  },
  {
   "cell_type": "code",
   "execution_count": 9,
   "id": "817bb80a",
   "metadata": {},
   "outputs": [],
   "source": [
    "X_valid,X_train=X_train_n[:5000],X_train_n[5000:]\n",
    "y_valid,y_train=y_train_full[:5000],y_train_full[5000:]\n",
    "X_tset=X_test_n"
   ]
  },
  {
   "cell_type": "code",
   "execution_count": 10,
   "id": "594af0f4",
   "metadata": {},
   "outputs": [],
   "source": [
    "X_test=X_test_n"
   ]
  },
  {
   "cell_type": "code",
   "execution_count": 11,
   "id": "978a1d14",
   "metadata": {},
   "outputs": [],
   "source": [
    "np.random.seed(42)\n",
    "tf.random.set_seed(42)"
   ]
  },
  {
   "cell_type": "markdown",
   "id": "a811023c",
   "metadata": {},
   "source": [
    "## Covolution layer formation"
   ]
  },
  {
   "cell_type": "code",
   "execution_count": 13,
   "id": "9328799f",
   "metadata": {},
   "outputs": [],
   "source": [
    "model=keras.models.Sequential()\n",
    "model.add(keras.layers.Conv2D(filters=32,kernel_size=(3,3),strides=1,padding='valid',\n",
    "                              activation='relu',input_shape=(28,28,1)))"
   ]
  },
  {
   "cell_type": "code",
   "execution_count": 14,
   "id": "3447e7b0",
   "metadata": {},
   "outputs": [],
   "source": [
    "model.add(keras.layers.Flatten())\n",
    "model.add(keras.layers.Dense(300,activation=\"relu\"))\n",
    "model.add(keras.layers.Dense(100,activation=\"relu\"))\n",
    "model.add(keras.layers.Dense(10,activation=\"softmax\"))"
   ]
  },
  {
   "cell_type": "code",
   "execution_count": 15,
   "id": "f73f337a",
   "metadata": {},
   "outputs": [
    {
     "name": "stdout",
     "output_type": "stream",
     "text": [
      "Model: \"sequential_1\"\n",
      "_________________________________________________________________\n",
      " Layer (type)                Output Shape              Param #   \n",
      "=================================================================\n",
      " conv2d (Conv2D)             (None, 26, 26, 32)        320       \n",
      "                                                                 \n",
      " flatten (Flatten)           (None, 21632)             0         \n",
      "                                                                 \n",
      " dense (Dense)               (None, 300)               6489900   \n",
      "                                                                 \n",
      " dense_1 (Dense)             (None, 100)               30100     \n",
      "                                                                 \n",
      " dense_2 (Dense)             (None, 10)                1010      \n",
      "                                                                 \n",
      "=================================================================\n",
      "Total params: 6,521,330\n",
      "Trainable params: 6,521,330\n",
      "Non-trainable params: 0\n",
      "_________________________________________________________________\n"
     ]
    }
   ],
   "source": [
    "model.summary()"
   ]
  },
  {
   "cell_type": "code",
   "execution_count": 16,
   "id": "78d7ac5c",
   "metadata": {},
   "outputs": [],
   "source": [
    "model.compile(loss=\"sparse_categorical_crossentropy\",optimizer=\"sgd\",metrics=[\"accuracy\"])"
   ]
  },
  {
   "cell_type": "code",
   "execution_count": 17,
   "id": "9f3b3bf4",
   "metadata": {},
   "outputs": [
    {
     "name": "stdout",
     "output_type": "stream",
     "text": [
      "Epoch 1/30\n",
      "860/860 [==============================] - 69s 79ms/step - loss: 0.7273 - accuracy: 0.7478 - val_loss: 0.7216 - val_accuracy: 0.7374\n",
      "Epoch 2/30\n",
      "860/860 [==============================] - 68s 79ms/step - loss: 0.4891 - accuracy: 0.8233 - val_loss: 0.4652 - val_accuracy: 0.8202\n",
      "Epoch 3/30\n",
      "860/860 [==============================] - 67s 78ms/step - loss: 0.4383 - accuracy: 0.8401 - val_loss: 0.8414 - val_accuracy: 0.7186\n",
      "Epoch 4/30\n",
      "860/860 [==============================] - 67s 78ms/step - loss: 0.4074 - accuracy: 0.8526 - val_loss: 0.3924 - val_accuracy: 0.8578\n",
      "Epoch 5/30\n",
      "860/860 [==============================] - 69s 80ms/step - loss: 0.3876 - accuracy: 0.8595 - val_loss: 0.3950 - val_accuracy: 0.8568\n",
      "Epoch 6/30\n",
      "860/860 [==============================] - 66s 76ms/step - loss: 0.3677 - accuracy: 0.8659 - val_loss: 0.3489 - val_accuracy: 0.8764\n",
      "Epoch 7/30\n",
      "860/860 [==============================] - 64s 74ms/step - loss: 0.3537 - accuracy: 0.8717 - val_loss: 0.3765 - val_accuracy: 0.8598\n",
      "Epoch 8/30\n",
      "860/860 [==============================] - 65s 76ms/step - loss: 0.3416 - accuracy: 0.8759 - val_loss: 0.4261 - val_accuracy: 0.8376\n",
      "Epoch 9/30\n",
      "860/860 [==============================] - 57s 67ms/step - loss: 0.3314 - accuracy: 0.8781 - val_loss: 0.3526 - val_accuracy: 0.8678\n",
      "Epoch 10/30\n",
      "860/860 [==============================] - 46s 53ms/step - loss: 0.3219 - accuracy: 0.8820 - val_loss: 0.3605 - val_accuracy: 0.8644\n",
      "Epoch 11/30\n",
      "860/860 [==============================] - 44s 51ms/step - loss: 0.3123 - accuracy: 0.8853 - val_loss: 0.3361 - val_accuracy: 0.8782\n",
      "Epoch 12/30\n",
      "860/860 [==============================] - 44s 51ms/step - loss: 0.3042 - accuracy: 0.8885 - val_loss: 0.3200 - val_accuracy: 0.8818\n",
      "Epoch 13/30\n",
      "860/860 [==============================] - 44s 52ms/step - loss: 0.2968 - accuracy: 0.8913 - val_loss: 0.3391 - val_accuracy: 0.8800\n",
      "Epoch 14/30\n",
      "860/860 [==============================] - 44s 51ms/step - loss: 0.2898 - accuracy: 0.8931 - val_loss: 0.3691 - val_accuracy: 0.8610\n",
      "Epoch 15/30\n",
      "860/860 [==============================] - 44s 51ms/step - loss: 0.2827 - accuracy: 0.8955 - val_loss: 0.3807 - val_accuracy: 0.8594\n",
      "Epoch 16/30\n",
      "860/860 [==============================] - 44s 52ms/step - loss: 0.2771 - accuracy: 0.8988 - val_loss: 0.2976 - val_accuracy: 0.8840\n",
      "Epoch 17/30\n",
      "860/860 [==============================] - 44s 51ms/step - loss: 0.2697 - accuracy: 0.9011 - val_loss: 0.3632 - val_accuracy: 0.8716\n",
      "Epoch 18/30\n",
      "860/860 [==============================] - 49s 57ms/step - loss: 0.2649 - accuracy: 0.9019 - val_loss: 0.3303 - val_accuracy: 0.8836\n",
      "Epoch 19/30\n",
      "860/860 [==============================] - 47s 54ms/step - loss: 0.2592 - accuracy: 0.9047 - val_loss: 0.3125 - val_accuracy: 0.8890\n",
      "Epoch 20/30\n",
      "860/860 [==============================] - 46s 54ms/step - loss: 0.2533 - accuracy: 0.9079 - val_loss: 0.3277 - val_accuracy: 0.8786\n",
      "Epoch 21/30\n",
      "860/860 [==============================] - 46s 54ms/step - loss: 0.2481 - accuracy: 0.9089 - val_loss: 0.2832 - val_accuracy: 0.8966\n",
      "Epoch 22/30\n",
      "860/860 [==============================] - 47s 54ms/step - loss: 0.2421 - accuracy: 0.9108 - val_loss: 0.2982 - val_accuracy: 0.8898\n",
      "Epoch 23/30\n",
      "860/860 [==============================] - 46s 53ms/step - loss: 0.2373 - accuracy: 0.9127 - val_loss: 0.2806 - val_accuracy: 0.9000\n",
      "Epoch 24/30\n",
      "860/860 [==============================] - 46s 54ms/step - loss: 0.2315 - accuracy: 0.9150 - val_loss: 0.3175 - val_accuracy: 0.8834\n",
      "Epoch 25/30\n",
      "860/860 [==============================] - 1174s 1s/step - loss: 0.2267 - accuracy: 0.9164 - val_loss: 0.2814 - val_accuracy: 0.8966\n",
      "Epoch 26/30\n",
      "860/860 [==============================] - 47s 54ms/step - loss: 0.2227 - accuracy: 0.9172 - val_loss: 0.2944 - val_accuracy: 0.8988\n",
      "Epoch 27/30\n",
      "860/860 [==============================] - 45s 52ms/step - loss: 0.2181 - accuracy: 0.9199 - val_loss: 0.2953 - val_accuracy: 0.8934\n",
      "Epoch 28/30\n",
      "860/860 [==============================] - 62s 72ms/step - loss: 0.2131 - accuracy: 0.9225 - val_loss: 0.2977 - val_accuracy: 0.8914\n",
      "Epoch 29/30\n",
      "860/860 [==============================] - 53s 61ms/step - loss: 0.2080 - accuracy: 0.9229 - val_loss: 0.2825 - val_accuracy: 0.8994\n",
      "Epoch 30/30\n",
      "860/860 [==============================] - 55s 64ms/step - loss: 0.2036 - accuracy: 0.9253 - val_loss: 0.2784 - val_accuracy: 0.8962\n"
     ]
    }
   ],
   "source": [
    "model_history=model.fit(X_train,y_train,epochs=30,batch_size=64,validation_data=(X_valid,y_valid))"
   ]
  },
  {
   "cell_type": "code",
   "execution_count": 18,
   "id": "2a8bb89f",
   "metadata": {},
   "outputs": [
    {
     "data": {
      "image/png": "[encoded data removed]",
      "text/plain": [
       "<Figure size 576x360 with 1 Axes>"
      ]
     },
     "metadata": {
      "needs_background": "light"
     },
     "output_type": "display_data"
    }
   ],
   "source": [
    "pd.DataFrame(model_history.history).plot(figsize=(8,5))\n",
    "plt.grid(True)\n",
    "plt.gca().set_ylim(0,1)\n",
    "plt.show()"
   ]
  },
  {
   "cell_type": "code",
   "execution_count": 26,
   "id": "c64223ac",
   "metadata": {},
   "outputs": [
    {
     "name": "stdout",
     "output_type": "stream",
     "text": [
      "1/1 [==============================] - 0s 91ms/step\n"
     ]
    },
    {
     "data": {
      "text/plain": [
       "array([[1.2356628e-05, 3.1214822e-07, 5.4315960e-06, 1.4252248e-07,\n",
       "        7.6445440e-07, 2.6677565e-03, 2.2722104e-06, 7.6248534e-03,\n",
       "        1.2151241e-04, 9.8956454e-01],\n",
       "       [2.8415260e-04, 6.4097028e-10, 9.7856861e-01, 2.1183278e-07,\n",
       "        2.0723332e-02, 7.5431359e-09, 4.2355678e-04, 9.4706731e-09,\n",
       "        9.4676430e-08, 2.1800355e-09],\n",
       "       [7.4378555e-08, 9.9999869e-01, 6.0807031e-09, 8.3938517e-07,\n",
       "        3.4218510e-07, 4.6096052e-10, 2.0729631e-09, 9.8493297e-12,\n",
       "        1.2358252e-08, 3.7478524e-11]], dtype=float32)"
      ]
     },
     "execution_count": 26,
     "metadata": {},
     "output_type": "execute_result"
    }
   ],
   "source": [
    "X_new=X_tset[:3]\n",
    "y_pred=model.predict(X_new)\n",
    "y_pred"
   ]
  },
  {
   "cell_type": "code",
   "execution_count": 27,
   "id": "1b5c585e",
   "metadata": {},
   "outputs": [
    {
     "data": {
      "text/plain": [
       "array([9, 2, 1], dtype=uint8)"
      ]
     },
     "execution_count": 27,
     "metadata": {},
     "output_type": "execute_result"
    }
   ],
   "source": [
    "y_test[:3]"
   ]
  },
  {
   "cell_type": "code",
   "execution_count": 29,
   "id": "18465808",
   "metadata": {},
   "outputs": [
    {
     "name": "stdout",
     "output_type": "stream",
     "text": [
      "AxesImage(54,36;334.8x217.44)\n"
     ]
    },
    {
     "data": {
      "image/png": "[encoded data removed]",
      "text/plain": [
       "<Figure size 432x288 with 1 Axes>"
      ]
     },
     "metadata": {
      "needs_background": "light"
     },
     "output_type": "display_data"
    }
   ],
   "source": [
    "print(plt.imshow(X_test[0].reshape((28,28,))))"
   ]
  },
  {
   "cell_type": "code",
   "execution_count": null,
   "id": "003a9170",
   "metadata": {},
   "outputs": [],
   "source": [
    "#keras.backend.clear.session"
   ]
  },
  {
   "cell_type": "code",
   "execution_count": null,
   "id": "9eca93eb",
   "metadata": {},
   "outputs": [],
   "source": [
    "#del model"
   ]
  }
 ],
 "metadata": {
  "kernelspec": {
   "display_name": "Python 3 (ipykernel)",
   "language": "python",
   "name": "python3"
  },
  "language_info": {
   "codemirror_mode": {
    "name": "ipython",
    "version": 3
   },
   "file_extension": ".py",
   "mimetype": "text/x-python",
   "name": "python",
   "nbconvert_exporter": "python",
   "pygments_lexer": "ipython3",
   "version": "3.9.7"
  }
 },
 "nbformat": 4,
 "nbformat_minor": 5
}
